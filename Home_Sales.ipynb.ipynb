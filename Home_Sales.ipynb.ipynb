{
  "cells": [
    {
      "cell_type": "code",
      "source": [
        "!pip install findspark"
      ],
      "metadata": {
        "colab": {
          "base_uri": "https://localhost:8080/"
        },
        "id": "mp3-MAVMRLAL",
        "outputId": "dd26161e-ff1a-48e5-a0ae-de4589b30f07"
      },
      "execution_count": 8,
      "outputs": [
        {
          "output_type": "stream",
          "name": "stdout",
          "text": [
            "Collecting findspark\n",
            "  Downloading findspark-2.0.1-py2.py3-none-any.whl.metadata (352 bytes)\n",
            "Downloading findspark-2.0.1-py2.py3-none-any.whl (4.4 kB)\n",
            "Installing collected packages: findspark\n",
            "Successfully installed findspark-2.0.1\n"
          ]
        }
      ]
    },
    {
      "cell_type": "code",
      "execution_count": 9,
      "metadata": {
        "id": "a_KW73O2e3dw"
      },
      "outputs": [],
      "source": [
        "# Import findspark and initialize.\n",
        "import findspark\n",
        "findspark.init()"
      ]
    },
    {
      "cell_type": "code",
      "execution_count": 10,
      "metadata": {
        "id": "2XbWNf1Te5fM"
      },
      "outputs": [],
      "source": [
        "# Import packages\n",
        "from pyspark.sql import SparkSession\n",
        "import time\n",
        "\n",
        "# Create a SparkSession\n",
        "spark = SparkSession.builder.appName(\"SparkSQL\").getOrCreate()"
      ]
    },
    {
      "cell_type": "code",
      "execution_count": 15,
      "metadata": {
        "colab": {
          "base_uri": "https://localhost:8080/"
        },
        "id": "wOJqxG_RPSwp",
        "outputId": "961303ba-c090-43e1-af3b-06942671e5cc"
      },
      "outputs": [
        {
          "output_type": "stream",
          "name": "stdout",
          "text": [
            "+--------------------+----------+----------+------+--------+---------+-----------+--------+------+----------+----+\n",
            "|                  id|      date|date_built| price|bedrooms|bathrooms|sqft_living|sqft_lot|floors|waterfront|view|\n",
            "+--------------------+----------+----------+------+--------+---------+-----------+--------+------+----------+----+\n",
            "|f8a53099-ba1c-47d...|2022-04-08|      2016|936923|       4|        3|       3167|   11733|     2|         1|  76|\n",
            "|7530a2d8-1ae3-451...|2021-06-13|      2013|379628|       2|        2|       2235|   14384|     1|         0|  23|\n",
            "|43de979c-0bf0-4c9...|2019-04-12|      2014|417866|       2|        2|       2127|   10575|     2|         0|   0|\n",
            "|b672c137-b88c-48b...|2019-10-16|      2016|239895|       2|        2|       1631|   11149|     2|         0|   0|\n",
            "|e0726d4d-d595-407...|2022-01-08|      2017|424418|       3|        2|       2249|   13878|     2|         0|   4|\n",
            "|5aa00529-0533-46b...|2019-01-30|      2017|218712|       2|        3|       1965|   14375|     2|         0|   7|\n",
            "|131492a1-72e2-4a8...|2020-02-08|      2017|419199|       2|        3|       2062|    8876|     2|         0|   6|\n",
            "|8d54a71b-c520-44e...|2019-07-21|      2010|323956|       2|        3|       1506|   11816|     1|         0|  25|\n",
            "|e81aacfe-17fe-46b...|2020-06-16|      2016|181925|       3|        3|       2137|   11709|     2|         0|  22|\n",
            "|2ed8d509-7372-46d...|2021-08-06|      2015|258710|       3|        3|       1918|    9666|     1|         0|  25|\n",
            "|f876d86f-3c9f-42b...|2019-02-27|      2011|167864|       3|        3|       2471|   13924|     2|         0|  15|\n",
            "|0a2bd445-8508-4d8...|2021-12-30|      2014|337527|       2|        3|       1926|   12556|     1|         0|  23|\n",
            "|941bad30-eb49-4a7...|2020-05-09|      2015|229896|       3|        3|       2197|    8641|     1|         0|   3|\n",
            "|dd61eb34-6589-4c0...|2021-07-25|      2016|210247|       3|        2|       1672|   11986|     2|         0|  28|\n",
            "|f1e4cef7-d151-439...|2019-02-01|      2011|398667|       2|        3|       2331|   11356|     1|         0|   7|\n",
            "|ea620c7b-c2f7-4c6...|2021-05-31|      2011|437958|       3|        3|       2356|   11052|     1|         0|  26|\n",
            "|f233cb41-6f33-4b0...|2021-07-18|      2016|437375|       4|        3|       1704|   11721|     2|         0|  34|\n",
            "|c797ca12-52cd-4b1...|2019-06-08|      2015|288650|       2|        3|       2100|   10419|     2|         0|   7|\n",
            "|0cfe57f3-28c2-472...|2019-10-04|      2015|308313|       3|        3|       1960|    9453|     2|         0|   2|\n",
            "|4566cd2a-ac6e-435...|2019-07-15|      2016|177541|       3|        3|       2130|   10517|     2|         0|  25|\n",
            "+--------------------+----------+----------+------+--------+---------+-----------+--------+------+----------+----+\n",
            "only showing top 20 rows\n",
            "\n"
          ]
        }
      ],
      "source": [
        "# 1. Read the home_sales_revised.csv from the provided AWS S3 bucket location into a PySpark DataFrame.\n",
        "from pyspark import SparkFiles\n",
        "url = \"https://2u-data-curriculum-team.s3.amazonaws.com/dataviz-classroom/v1.2/22-big-data/home_sales_revised.csv\"\n",
        "spark.sparkContext.addFile(url)\n",
        "df = spark.read.csv(SparkFiles.get(\"home_sales_revised.csv\"), sep=\",\", header=True)\n",
        "df.show()\n",
        "\n"
      ]
    },
    {
      "cell_type": "code",
      "execution_count": 16,
      "metadata": {
        "id": "RoljcJ7WPpnm"
      },
      "outputs": [],
      "source": [
        "# 2. Create a temporary view of the DataFrame.\n",
        "df.createOrReplaceTempView('home_sales')"
      ]
    },
    {
      "cell_type": "code",
      "execution_count": 17,
      "metadata": {
        "colab": {
          "base_uri": "https://localhost:8080/"
        },
        "id": "L6fkwOeOmqvq",
        "outputId": "2affd562-e9a3-4fac-a99b-581bb55737fc"
      },
      "outputs": [
        {
          "output_type": "stream",
          "name": "stdout",
          "text": [
            "+---------+---------+\n",
            "|year_sold|avg_price|\n",
            "+---------+---------+\n",
            "|     2019| 300263.7|\n",
            "|     2020|298353.78|\n",
            "|     2021|301819.44|\n",
            "|     2022|296363.88|\n",
            "+---------+---------+\n",
            "\n"
          ]
        }
      ],
      "source": [
        "# 3. What is the average price for a four bedroom house sold per year, rounded to two decimal places?\n",
        "spark.sql(\"\"\"\n",
        "    SELECT YEAR(date) AS year_sold, ROUND(AVG(price), 2) AS avg_price\n",
        "    FROM home_sales\n",
        "    WHERE bedrooms = 4\n",
        "    GROUP BY year_sold\n",
        "    ORDER BY year_sold\n",
        "\"\"\").show()\n"
      ]
    },
    {
      "cell_type": "code",
      "execution_count": 22,
      "metadata": {
        "colab": {
          "base_uri": "https://localhost:8080/"
        },
        "id": "l8p_tUS8h8it",
        "outputId": "4862b002-7353-4202-9b14-04189d95d313"
      },
      "outputs": [
        {
          "output_type": "stream",
          "name": "stdout",
          "text": [
            "+----------+---------+\n",
            "|date_built|avg_price|\n",
            "+----------+---------+\n",
            "|      2010|292859.62|\n",
            "|      2011|291117.47|\n",
            "|      2012|293683.19|\n",
            "|      2013|295962.27|\n",
            "|      2014|290852.27|\n",
            "|      2015| 288770.3|\n",
            "|      2016|290555.07|\n",
            "|      2017|292676.79|\n",
            "+----------+---------+\n",
            "\n"
          ]
        }
      ],
      "source": [
        "# 4. What is the average price of a home for each year the home was built,\n",
        "# that have 3 bedrooms and 3 bathrooms, rounded to two decimal places?\n",
        "spark.sql(\"\"\"\n",
        "    SELECT date_built, ROUND(AVG(price), 2) AS avg_price\n",
        "    FROM home_sales\n",
        "    WHERE bedrooms = 3 AND bathrooms = 3\n",
        "    GROUP BY date_built\n",
        "    ORDER BY date_built\n",
        "\"\"\").show()"
      ]
    },
    {
      "cell_type": "code",
      "execution_count": 26,
      "metadata": {
        "colab": {
          "base_uri": "https://localhost:8080/"
        },
        "id": "Y-Eytz64liDU",
        "outputId": "9e17b59c-c5b2-472b-bf28-4f634f5f9d59"
      },
      "outputs": [
        {
          "output_type": "stream",
          "name": "stdout",
          "text": [
            "+----------+---------+\n",
            "|date_built|avg_price|\n",
            "+----------+---------+\n",
            "|      2010|285010.22|\n",
            "|      2011|276553.81|\n",
            "|      2012|307539.97|\n",
            "|      2013|303676.79|\n",
            "|      2014|298264.72|\n",
            "|      2015|297609.97|\n",
            "|      2016| 293965.1|\n",
            "|      2017|280317.58|\n",
            "+----------+---------+\n",
            "\n"
          ]
        }
      ],
      "source": [
        "# 5. What is the average price of a home for each year the home was built,\n",
        "# that have 3 bedrooms, 3 bathrooms, with two floors,\n",
        "# and are greater than or equal to 2,000 square feet, rounded to two decimal places?\n",
        "spark.sql(\"\"\"\n",
        "    SELECT date_built, ROUND(AVG(price), 2) AS avg_price\n",
        "    FROM home_sales\n",
        "    WHERE bedrooms = 3 AND bathrooms = 3 AND floors = 2 AND sqft_living >= 2000\n",
        "    GROUP BY date_built\n",
        "    ORDER BY date_built\n",
        "\"\"\").show()\n",
        "\n",
        "\n"
      ]
    },
    {
      "cell_type": "code",
      "execution_count": 27,
      "metadata": {
        "colab": {
          "base_uri": "https://localhost:8080/"
        },
        "id": "GUrfgOX1pCRd",
        "outputId": "9bb1e2ca-563f-4efd-90bd-b8dbb76682e3"
      },
      "outputs": [
        {
          "output_type": "stream",
          "name": "stdout",
          "text": [
            "+-----------+----------+\n",
            "|view_rating| avg_price|\n",
            "+-----------+----------+\n",
            "|         99|1061201.42|\n",
            "|         98|1053739.33|\n",
            "|         97|1129040.15|\n",
            "|         96|1017815.92|\n",
            "|         95| 1054325.6|\n",
            "|         94| 1033536.2|\n",
            "|         93|1026006.06|\n",
            "|         92| 970402.55|\n",
            "|         91|1137372.73|\n",
            "|         90|1062654.16|\n",
            "|         89|1107839.15|\n",
            "|         88|1031719.35|\n",
            "|         87| 1072285.2|\n",
            "|         86|1070444.25|\n",
            "|         85|1056336.74|\n",
            "|         84|1117233.13|\n",
            "|         83|1033965.93|\n",
            "|         82| 1063498.0|\n",
            "|         81|1053472.79|\n",
            "|         80| 991767.38|\n",
            "+-----------+----------+\n",
            "only showing top 20 rows\n",
            "\n",
            "--- 1.6623663902282715 seconds ---\n"
          ]
        }
      ],
      "source": [
        "# 6. What is the average price of a home per \"view\" rating, rounded to two decimal places,\n",
        "# having an average home price greater than or equal to $350,000? Order by descending view rating.\n",
        "# Although this is a small dataset, determine the run time for this query.\n",
        "\n",
        "start_time = time.time()\n",
        "\n",
        "# Run the SQL query\n",
        "result = spark.sql(\"\"\"\n",
        "    SELECT view AS view_rating, ROUND(AVG(price), 2) AS avg_price\n",
        "    FROM home_sales\n",
        "    GROUP BY view_rating\n",
        "    HAVING avg_price >= 350000\n",
        "    ORDER BY view_rating DESC;\n",
        "\"\"\")\n",
        "\n",
        "#Show results\n",
        "result.show()\n",
        "\n",
        "print(\"--- %s seconds ---\" % (time.time() - start_time))"
      ]
    },
    {
      "cell_type": "code",
      "execution_count": 28,
      "metadata": {
        "id": "KAhk3ZD2tFy8"
      },
      "outputs": [],
      "source": [
        "# 7. Cache the the temporary table home_sales.\n",
        "spark.catalog.cacheTable('home_sales')"
      ]
    },
    {
      "cell_type": "code",
      "execution_count": 29,
      "metadata": {
        "colab": {
          "base_uri": "https://localhost:8080/"
        },
        "id": "4opVhbvxtL-i",
        "outputId": "18353c57-4f29-4765-d37c-e122e82ee0a5"
      },
      "outputs": [
        {
          "output_type": "execute_result",
          "data": {
            "text/plain": [
              "True"
            ]
          },
          "metadata": {},
          "execution_count": 29
        }
      ],
      "source": [
        "# 8. Check if the table is cached.\n",
        "spark.catalog.isCached('home_sales')"
      ]
    },
    {
      "cell_type": "code",
      "execution_count": 30,
      "metadata": {
        "colab": {
          "base_uri": "https://localhost:8080/"
        },
        "id": "5GnL46lwTSEk",
        "outputId": "0c9deaee-0e37-4501-9e9b-8b48c84e06e5"
      },
      "outputs": [
        {
          "output_type": "stream",
          "name": "stdout",
          "text": [
            "+-----------+----------+\n",
            "|view_rating| avg_price|\n",
            "+-----------+----------+\n",
            "|         99|1061201.42|\n",
            "|         98|1053739.33|\n",
            "|         97|1129040.15|\n",
            "|         96|1017815.92|\n",
            "|         95| 1054325.6|\n",
            "|         94| 1033536.2|\n",
            "|         93|1026006.06|\n",
            "|         92| 970402.55|\n",
            "|         91|1137372.73|\n",
            "|         90|1062654.16|\n",
            "|         89|1107839.15|\n",
            "|         88|1031719.35|\n",
            "|         87| 1072285.2|\n",
            "|         86|1070444.25|\n",
            "|         85|1056336.74|\n",
            "|         84|1117233.13|\n",
            "|         83|1033965.93|\n",
            "|         82| 1063498.0|\n",
            "|         81|1053472.79|\n",
            "|         80| 991767.38|\n",
            "+-----------+----------+\n",
            "only showing top 20 rows\n",
            "\n",
            "--- 2.6259536743164062 seconds ---\n"
          ]
        }
      ],
      "source": [
        "# 9. Using the cached data, run the last query above, that calculates\n",
        "# the average price of a home per \"view\" rating, rounded to two decimal places,\n",
        "# having an average home price greater than or equal to $350,000.\n",
        "# Determine the runtime and compare it to the uncached runtime.\n",
        "\n",
        "start_time = time.time()\n",
        "\n",
        "# Run the SQL query without caching\n",
        "result_uncached = spark.sql(\"\"\"\n",
        "    SELECT view AS view_rating, ROUND(AVG(price), 2) AS avg_price\n",
        "    FROM home_sales\n",
        "    GROUP BY view_rating\n",
        "    HAVING avg_price >= 350000\n",
        "    ORDER BY view_rating DESC;\n",
        "\"\"\")\n",
        "\n",
        "# Show results\n",
        "result_uncached.show()\n",
        "\n",
        "\n",
        "print(\"--- %s seconds ---\" % (time.time() - start_time))\n"
      ]
    },
    {
      "cell_type": "code",
      "execution_count": 32,
      "metadata": {
        "id": "Qm12WN9isHBR"
      },
      "outputs": [],
      "source": [
        "# 10. Partition by the \"date_built\" field on the formatted parquet home sales data\n",
        "# Define the Parquet file path\n",
        "parquet_path = \"/mnt/data/home_sales_partitioned\"\n",
        "\n",
        "# Write the DataFrame in Parquet format, partitioned by \"date_built\"\n",
        "df.write.partitionBy(\"date_built\").mode(\"overwrite\").parquet(parquet_path)\n"
      ]
    },
    {
      "cell_type": "code",
      "execution_count": 33,
      "metadata": {
        "id": "AZ7BgY61sRqY"
      },
      "outputs": [],
      "source": [
        "# 11. Read the formatted parquet data.\n",
        "home_sales_partitioned_df = spark.read.parquet(parquet_path)\n"
      ]
    },
    {
      "cell_type": "code",
      "execution_count": 34,
      "metadata": {
        "id": "J6MJkHfvVcvh"
      },
      "outputs": [],
      "source": [
        "# 12. Create a temporary table for the parquet data.\n",
        "home_sales_partitioned_df.createOrReplaceTempView(\"home_sales_partitioned\")"
      ]
    },
    {
      "cell_type": "code",
      "execution_count": 35,
      "metadata": {
        "colab": {
          "base_uri": "https://localhost:8080/"
        },
        "id": "G_Vhb52rU1Sn",
        "outputId": "3bf5c689-ac36-4399-d4aa-a46c9e894e49"
      },
      "outputs": [
        {
          "output_type": "stream",
          "name": "stdout",
          "text": [
            "+-----------+----------+\n",
            "|view_rating| avg_price|\n",
            "+-----------+----------+\n",
            "|         99|1061201.42|\n",
            "|         98|1053739.33|\n",
            "|         97|1129040.15|\n",
            "|         96|1017815.92|\n",
            "|         95| 1054325.6|\n",
            "|         94| 1033536.2|\n",
            "|         93|1026006.06|\n",
            "|         92| 970402.55|\n",
            "|         91|1137372.73|\n",
            "|         90|1062654.16|\n",
            "|         89|1107839.15|\n",
            "|         88|1031719.35|\n",
            "|         87| 1072285.2|\n",
            "|         86|1070444.25|\n",
            "|         85|1056336.74|\n",
            "|         84|1117233.13|\n",
            "|         83|1033965.93|\n",
            "|         82| 1063498.0|\n",
            "|         81|1053472.79|\n",
            "|         80| 991767.38|\n",
            "+-----------+----------+\n",
            "only showing top 20 rows\n",
            "\n",
            "--- 1.2529981136322021 seconds ---\n"
          ]
        }
      ],
      "source": [
        "# 13. Using the parquet DataFrame, run the last query above, that calculates\n",
        "# the average price of a home per \"view\" rating, rounded to two decimal places,\n",
        "# having an average home price greater than or equal to $350,000.\n",
        "# Determine the runtime and compare it to the cached runtime.\n",
        "\n",
        "start_time = time.time()\n",
        "\n",
        "result_parquet = spark.sql(\"\"\"\n",
        "    SELECT view AS view_rating, ROUND(AVG(price), 2) AS avg_price\n",
        "    FROM home_sales_partitioned\n",
        "    GROUP BY view_rating\n",
        "    HAVING avg_price >= 350000\n",
        "    ORDER BY view_rating DESC;\n",
        "\"\"\")\n",
        "\n",
        "# Show results\n",
        "result_parquet.show()\n",
        "\n",
        "print(\"--- %s seconds ---\" % (time.time() - start_time))"
      ]
    },
    {
      "cell_type": "code",
      "execution_count": 36,
      "metadata": {
        "colab": {
          "base_uri": "https://localhost:8080/"
        },
        "id": "hjjYzQGjtbq8",
        "outputId": "db807b4f-90fa-48de-e87f-25c78e961d6f"
      },
      "outputs": [
        {
          "output_type": "execute_result",
          "data": {
            "text/plain": [
              "DataFrame[]"
            ]
          },
          "metadata": {},
          "execution_count": 36
        }
      ],
      "source": [
        "# 14. Uncache the home_sales temporary table.\n",
        "spark.sql(\"UNCACHE TABLE home_sales\")"
      ]
    },
    {
      "cell_type": "code",
      "execution_count": 37,
      "metadata": {
        "colab": {
          "base_uri": "https://localhost:8080/"
        },
        "id": "Sy9NBvO7tlmm",
        "outputId": "93632850-cd28-4138-a5c9-ea352e87478a"
      },
      "outputs": [
        {
          "output_type": "stream",
          "name": "stdout",
          "text": [
            "Is home_sales cached? False\n"
          ]
        }
      ],
      "source": [
        "# 15. Check if the home_sales is no longer cached\n",
        "print(\"Is home_sales cached?\", spark.catalog.isCached(\"home_sales\"))\n"
      ]
    },
    {
      "cell_type": "code",
      "execution_count": null,
      "metadata": {
        "id": "tqRKvCV3Nugp"
      },
      "outputs": [],
      "source": []
    }
  ],
  "metadata": {
    "colab": {
      "provenance": []
    },
    "kernelspec": {
      "display_name": "Python 3 (ipykernel)",
      "language": "python",
      "name": "python3"
    },
    "language_info": {
      "codemirror_mode": {
        "name": "ipython",
        "version": 3
      },
      "file_extension": ".py",
      "mimetype": "text/x-python",
      "name": "python",
      "nbconvert_exporter": "python",
      "pygments_lexer": "ipython3",
      "version": "3.10.4"
    },
    "nteract": {
      "version": "0.28.0"
    }
  },
  "nbformat": 4,
  "nbformat_minor": 0
}